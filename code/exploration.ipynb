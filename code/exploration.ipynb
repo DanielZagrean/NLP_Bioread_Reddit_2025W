{
 "cells": [
  {
   "metadata": {},
   "cell_type": "markdown",
   "source": "# Import and Config",
   "id": "bbd0c7cfcc3c0acc"
  },
  {
   "metadata": {
    "ExecuteTime": {
     "end_time": "2025-10-22T18:07:47.240814Z",
     "start_time": "2025-10-22T18:07:47.238808Z"
    }
   },
   "cell_type": "code",
   "source": [
    "import pandas as pd\n",
    "import seaborn as sns\n",
    "import ast"
   ],
   "id": "3c127ae64b9c350f",
   "outputs": [],
   "execution_count": 1
  },
  {
   "metadata": {},
   "cell_type": "markdown",
   "source": "# Load Data",
   "id": "67f213014b3f94b0"
  },
  {
   "metadata": {
    "ExecuteTime": {
     "end_time": "2025-10-22T18:09:47.730410Z",
     "start_time": "2025-10-22T18:09:47.538465Z"
    }
   },
   "cell_type": "code",
   "source": "df = pd.read_csv('../data/biored_raw.csv')",
   "id": "7f7bbe4ad6d7b132",
   "outputs": [],
   "execution_count": 7
  },
  {
   "metadata": {},
   "cell_type": "markdown",
   "source": "# Exploration",
   "id": "a185ea431006f6b9"
  },
  {
   "metadata": {
    "ExecuteTime": {
     "end_time": "2025-10-22T18:09:49.638099Z",
     "start_time": "2025-10-22T18:09:49.631722Z"
    }
   },
   "cell_type": "code",
   "source": "df.shape",
   "id": "25c9d0793afc83e",
   "outputs": [
    {
     "data": {
      "text/plain": [
       "(21480, 13)"
      ]
     },
     "execution_count": 8,
     "metadata": {},
     "output_type": "execute_result"
    }
   ],
   "execution_count": 8
  },
  {
   "metadata": {
    "ExecuteTime": {
     "end_time": "2025-10-22T18:09:52.102238Z",
     "start_time": "2025-10-22T18:09:52.087504Z"
    }
   },
   "cell_type": "code",
   "source": "df.head()",
   "id": "8c1c419ba33d8aea",
   "outputs": [
    {
     "data": {
      "text/plain": [
       "   instance_id   subreddit  post_id  sentence_id  \\\n",
       "0    104545801  offmychest   v502z3            0   \n",
       "1    104545802  offmychest   yg091o           74   \n",
       "2    104545803  offmychest  11zyznk            0   \n",
       "3    104545804  offmychest   xky3fc            1   \n",
       "4    104545805  offmychest   y0i42x            1   \n",
       "\n",
       "                                          post_title  \\\n",
       "0  Just ended my first relationship and I feel re...   \n",
       "1                             I had this idea of you   \n",
       "2  I miss being a \"sex worker\" even though I'm in...   \n",
       "3                     everyone is losing love for me   \n",
       "4                      I absolutely HATE remote work   \n",
       "\n",
       "                                                text  \\\n",
       "0  I (22) ended my first relationship and feel gr...   \n",
       "1  And I have never known the love of my family, ...   \n",
       "2  I , 23F , have been dating my boyfriend, 24M f...   \n",
       "3  The people in my life whom I owe to still bein...   \n",
       "4  I live in a house with my boyfriend and two pe...   \n",
       "\n",
       "                                    annotated_labels  \\\n",
       "0  ['[{\"end\":6,\"text\":\"I (22)\",\"start\":0,\"labels\"...   \n",
       "1                                                 []   \n",
       "2  ['[{\"end\":6,\"text\":\"I , 23\",\"start\":0,\"labels\"...   \n",
       "3  ['[{\"end\":79,\"text\":\"my mother and Girlfriend\"...   \n",
       "4  ['[{\"end\":35,\"text\":\"my boyfriend\",\"start\":23,...   \n",
       "\n",
       "                          majority_labels  \\\n",
       "0                             ['per:age']   \n",
       "1                         ['no_relation']   \n",
       "2                             ['per:age']   \n",
       "3           ['per: other family members']   \n",
       "4  ['possessions', 'unclear / uncertain']   \n",
       "\n",
       "                                     consensus_spans  num_annotators  \\\n",
       "0    [{'start': 0, 'end': 6, 'labels': ['per:age']}]               4   \n",
       "1                                                 []               2   \n",
       "2    [{'start': 0, 'end': 6, 'labels': ['per:age']}]               5   \n",
       "3  [{'start': 55, 'end': 79, 'labels': ['per: oth...               4   \n",
       "4  [{'start': 12, 'end': 17, 'labels': ['possessi...               3   \n",
       "\n",
       "   span_level_agreement    group  \\\n",
       "0             62.500000  group_0   \n",
       "1            100.000000  group_0   \n",
       "2             50.238095  group_0   \n",
       "3             33.333333  group_0   \n",
       "4              2.777778  group_0   \n",
       "\n",
       "                                         auto_labels  \n",
       "0  age: information on age of a person;per: partn...  \n",
       "1  per: parents: information on whether a person ...  \n",
       "2  age: information on age of a person;sex or gen...  \n",
       "3  per: children: information on whether a person...  \n",
       "4  age: information on age of a person;per: child...  "
      ],
      "text/html": [
       "<div>\n",
       "<style scoped>\n",
       "    .dataframe tbody tr th:only-of-type {\n",
       "        vertical-align: middle;\n",
       "    }\n",
       "\n",
       "    .dataframe tbody tr th {\n",
       "        vertical-align: top;\n",
       "    }\n",
       "\n",
       "    .dataframe thead th {\n",
       "        text-align: right;\n",
       "    }\n",
       "</style>\n",
       "<table border=\"1\" class=\"dataframe\">\n",
       "  <thead>\n",
       "    <tr style=\"text-align: right;\">\n",
       "      <th></th>\n",
       "      <th>instance_id</th>\n",
       "      <th>subreddit</th>\n",
       "      <th>post_id</th>\n",
       "      <th>sentence_id</th>\n",
       "      <th>post_title</th>\n",
       "      <th>text</th>\n",
       "      <th>annotated_labels</th>\n",
       "      <th>majority_labels</th>\n",
       "      <th>consensus_spans</th>\n",
       "      <th>num_annotators</th>\n",
       "      <th>span_level_agreement</th>\n",
       "      <th>group</th>\n",
       "      <th>auto_labels</th>\n",
       "    </tr>\n",
       "  </thead>\n",
       "  <tbody>\n",
       "    <tr>\n",
       "      <th>0</th>\n",
       "      <td>104545801</td>\n",
       "      <td>offmychest</td>\n",
       "      <td>v502z3</td>\n",
       "      <td>0</td>\n",
       "      <td>Just ended my first relationship and I feel re...</td>\n",
       "      <td>I (22) ended my first relationship and feel gr...</td>\n",
       "      <td>['[{\"end\":6,\"text\":\"I (22)\",\"start\":0,\"labels\"...</td>\n",
       "      <td>['per:age']</td>\n",
       "      <td>[{'start': 0, 'end': 6, 'labels': ['per:age']}]</td>\n",
       "      <td>4</td>\n",
       "      <td>62.500000</td>\n",
       "      <td>group_0</td>\n",
       "      <td>age: information on age of a person;per: partn...</td>\n",
       "    </tr>\n",
       "    <tr>\n",
       "      <th>1</th>\n",
       "      <td>104545802</td>\n",
       "      <td>offmychest</td>\n",
       "      <td>yg091o</td>\n",
       "      <td>74</td>\n",
       "      <td>I had this idea of you</td>\n",
       "      <td>And I have never known the love of my family, ...</td>\n",
       "      <td>[]</td>\n",
       "      <td>['no_relation']</td>\n",
       "      <td>[]</td>\n",
       "      <td>2</td>\n",
       "      <td>100.000000</td>\n",
       "      <td>group_0</td>\n",
       "      <td>per: parents: information on whether a person ...</td>\n",
       "    </tr>\n",
       "    <tr>\n",
       "      <th>2</th>\n",
       "      <td>104545803</td>\n",
       "      <td>offmychest</td>\n",
       "      <td>11zyznk</td>\n",
       "      <td>0</td>\n",
       "      <td>I miss being a \"sex worker\" even though I'm in...</td>\n",
       "      <td>I , 23F , have been dating my boyfriend, 24M f...</td>\n",
       "      <td>['[{\"end\":6,\"text\":\"I , 23\",\"start\":0,\"labels\"...</td>\n",
       "      <td>['per:age']</td>\n",
       "      <td>[{'start': 0, 'end': 6, 'labels': ['per:age']}]</td>\n",
       "      <td>5</td>\n",
       "      <td>50.238095</td>\n",
       "      <td>group_0</td>\n",
       "      <td>age: information on age of a person;sex or gen...</td>\n",
       "    </tr>\n",
       "    <tr>\n",
       "      <th>3</th>\n",
       "      <td>104545804</td>\n",
       "      <td>offmychest</td>\n",
       "      <td>xky3fc</td>\n",
       "      <td>1</td>\n",
       "      <td>everyone is losing love for me</td>\n",
       "      <td>The people in my life whom I owe to still bein...</td>\n",
       "      <td>['[{\"end\":79,\"text\":\"my mother and Girlfriend\"...</td>\n",
       "      <td>['per: other family members']</td>\n",
       "      <td>[{'start': 55, 'end': 79, 'labels': ['per: oth...</td>\n",
       "      <td>4</td>\n",
       "      <td>33.333333</td>\n",
       "      <td>group_0</td>\n",
       "      <td>per: children: information on whether a person...</td>\n",
       "    </tr>\n",
       "    <tr>\n",
       "      <th>4</th>\n",
       "      <td>104545805</td>\n",
       "      <td>offmychest</td>\n",
       "      <td>y0i42x</td>\n",
       "      <td>1</td>\n",
       "      <td>I absolutely HATE remote work</td>\n",
       "      <td>I live in a house with my boyfriend and two pe...</td>\n",
       "      <td>['[{\"end\":35,\"text\":\"my boyfriend\",\"start\":23,...</td>\n",
       "      <td>['possessions', 'unclear / uncertain']</td>\n",
       "      <td>[{'start': 12, 'end': 17, 'labels': ['possessi...</td>\n",
       "      <td>3</td>\n",
       "      <td>2.777778</td>\n",
       "      <td>group_0</td>\n",
       "      <td>age: information on age of a person;per: child...</td>\n",
       "    </tr>\n",
       "  </tbody>\n",
       "</table>\n",
       "</div>"
      ]
     },
     "execution_count": 9,
     "metadata": {},
     "output_type": "execute_result"
    }
   ],
   "execution_count": 9
  },
  {
   "metadata": {
    "ExecuteTime": {
     "end_time": "2025-10-22T18:09:53.820100Z",
     "start_time": "2025-10-22T18:09:53.808750Z"
    }
   },
   "cell_type": "code",
   "source": "df.isnull().sum()",
   "id": "c499d044a8d0926b",
   "outputs": [
    {
     "data": {
      "text/plain": [
       "instance_id                0\n",
       "subreddit                  0\n",
       "post_id                    0\n",
       "sentence_id                0\n",
       "post_title              4222\n",
       "text                       0\n",
       "annotated_labels           0\n",
       "majority_labels            0\n",
       "consensus_spans            0\n",
       "num_annotators             0\n",
       "span_level_agreement    2136\n",
       "group                      0\n",
       "auto_labels             1330\n",
       "dtype: int64"
      ]
     },
     "execution_count": 10,
     "metadata": {},
     "output_type": "execute_result"
    }
   ],
   "execution_count": 10
  },
  {
   "metadata": {
    "ExecuteTime": {
     "end_time": "2025-10-22T17:39:19.653094Z",
     "start_time": "2025-10-22T17:39:19.647302Z"
    }
   },
   "cell_type": "code",
   "source": "df['post_id'].nunique()",
   "id": "3b508166d70341f3",
   "outputs": [
    {
     "data": {
      "text/plain": [
       "9635"
      ]
     },
     "execution_count": 9,
     "metadata": {},
     "output_type": "execute_result"
    }
   ],
   "execution_count": 9
  },
  {
   "metadata": {
    "ExecuteTime": {
     "end_time": "2025-10-22T18:16:05.854893Z",
     "start_time": "2025-10-22T18:16:05.845492Z"
    }
   },
   "cell_type": "code",
   "source": "df[['post_id', 'sentence_id']].drop_duplicates().shape[0]\n",
   "id": "bb5b3c286aefe7b2",
   "outputs": [
    {
     "data": {
      "text/plain": [
       "10864"
      ]
     },
     "execution_count": 15,
     "metadata": {},
     "output_type": "execute_result"
    }
   ],
   "execution_count": 15
  },
  {
   "metadata": {
    "ExecuteTime": {
     "end_time": "2025-10-22T18:16:02.800545Z",
     "start_time": "2025-10-22T18:16:02.789369Z"
    }
   },
   "cell_type": "code",
   "source": [
    "df['text'].nunique()\n",
    "#TODO: check further"
   ],
   "id": "3c2afde2cde449ae",
   "outputs": [
    {
     "data": {
      "text/plain": [
       "10760"
      ]
     },
     "execution_count": 14,
     "metadata": {},
     "output_type": "execute_result"
    }
   ],
   "execution_count": 14
  },
  {
   "metadata": {
    "ExecuteTime": {
     "end_time": "2025-10-22T17:46:14.090208Z",
     "start_time": "2025-10-22T17:46:13.995137Z"
    }
   },
   "cell_type": "code",
   "source": [
    "x = df.groupby('post_id').nunique()['sentence_id']\n",
    "sns.histplot(x)"
   ],
   "id": "dcd83cb78c5ad172",
   "outputs": [
    {
     "data": {
      "text/plain": [
       "<Axes: xlabel='sentence_id', ylabel='Count'>"
      ]
     },
     "execution_count": 28,
     "metadata": {},
     "output_type": "execute_result"
    },
    {
     "data": {
      "text/plain": [
       "<Figure size 640x480 with 1 Axes>"
      ],
      "image/png": "[encoded data removed]"
     },
     "metadata": {},
     "output_type": "display_data"
    }
   ],
   "execution_count": 28
  },
  {
   "metadata": {
    "ExecuteTime": {
     "end_time": "2025-10-22T17:48:39.314864Z",
     "start_time": "2025-10-22T17:48:39.231679Z"
    }
   },
   "cell_type": "code",
   "source": "sns.histplot(df['num_annotators'])",
   "id": "956ad90bd8bc9588",
   "outputs": [
    {
     "data": {
      "text/plain": [
       "<Axes: xlabel='num_annotators', ylabel='Count'>"
      ]
     },
     "execution_count": 30,
     "metadata": {},
     "output_type": "execute_result"
    },
    {
     "data": {
      "text/plain": [
       "<Figure size 640x480 with 1 Axes>"
      ],
      "image/png": "[encoded data removed]"
     },
     "metadata": {},
     "output_type": "display_data"
    }
   ],
   "execution_count": 30
  },
  {
   "metadata": {
    "ExecuteTime": {
     "end_time": "2025-10-22T18:39:55.839886Z",
     "start_time": "2025-10-22T18:39:55.827561Z"
    }
   },
   "cell_type": "code",
   "source": [
    "import ast, json\n",
    "\n",
    "def parse_outer_list(cell):\n",
    "    if isinstance(cell, list):\n",
    "        return cell\n",
    "    if not isinstance(cell, str) or not cell.strip():\n",
    "        return []\n",
    "    try:\n",
    "        return ast.literal_eval(cell)   # z. B. \"['[...]','[...]']\"\n",
    "    except Exception:\n",
    "        try:\n",
    "            return json.loads(cell)\n",
    "        except Exception:\n",
    "            return []\n",
    "\n",
    "def parse_inner_json(entry):\n",
    "    if isinstance(entry, list):\n",
    "        return entry\n",
    "    if isinstance(entry, str):\n",
    "        return json.loads(entry)        # z. B. '[{...},{...}]'\n",
    "    return []\n",
    "\n",
    "def print_first_with_multiple_starts(df, col=\"annotated_labels\"):\n",
    "    for row_idx, cell in df[col].items():\n",
    "        outer = parse_outer_list(cell)          # Liste von inneren JSON-Arrays (als String)\n",
    "        for ann_idx, inner in enumerate(outer):\n",
    "            spans = parse_inner_json(inner)     # Liste[Dict]\n",
    "            starts = [d.get('start') for d in spans if isinstance(d, dict) and 'start' in d]\n",
    "            if len(starts) > 1:                 # mehr als ein start in dieser Annotation\n",
    "                print(f\"Erster Treffer in Zeile {row_idx}, Annotator {ann_idx}:\\n\")\n",
    "                print(\"ORIGINAL-CELL:\")\n",
    "                print(cell, \"\\n\")\n",
    "                print(\"ANNOTATION MIT >1 'start':\")\n",
    "                print(spans)\n",
    "                return (row_idx, ann_idx, spans)  # optional zurückgeben\n",
    "    print(\"Kein Fall mit >1 'start' gefunden.\")\n",
    "    return None\n",
    "\n",
    "# Aufruf:\n",
    "print_first_with_multiple_starts(df, col=\"annotated_labels\")"
   ],
   "id": "3d32ce1be5456e03",
   "outputs": [
    {
     "name": "stdout",
     "output_type": "stream",
     "text": [
      "Erster Treffer in Zeile 0, Annotator 2:\n",
      "\n",
      "ORIGINAL-CELL:\n",
      "['[{\"end\":6,\"text\":\"I (22)\",\"start\":0,\"labels\":[\"per:age\"]}]', '[{\"end\":6,\"text\":\"I (22)\",\"start\":0,\"labels\":[\"per:age\"]}]', '[{\"end\":1,\"text\":\"I\",\"start\":0,\"labels\":[\"per:age\"]},{\"end\":5,\"text\":\"22\",\"start\":3,\"labels\":[\"per:age\"]}]', '[{\"end\":6,\"text\":\"I (22)\",\"start\":0,\"labels\":[\"per:age\"]}]'] \n",
      "\n",
      "ANNOTATION MIT >1 'start':\n",
      "[{'end': 1, 'text': 'I', 'start': 0, 'labels': ['per:age']}, {'end': 5, 'text': '22', 'start': 3, 'labels': ['per:age']}]\n"
     ]
    },
    {
     "data": {
      "text/plain": [
       "(0,\n",
       " 2,\n",
       " [{'end': 1, 'text': 'I', 'start': 0, 'labels': ['per:age']},\n",
       "  {'end': 5, 'text': '22', 'start': 3, 'labels': ['per:age']}])"
      ]
     },
     "execution_count": 18,
     "metadata": {},
     "output_type": "execute_result"
    }
   ],
   "execution_count": 18
  }
 ],
 "metadata": {
  "kernelspec": {
   "name": "python3",
   "language": "python",
   "display_name": "Python 3 (ipykernel)"
  }
 },
 "nbformat": 4,
 "nbformat_minor": 5
}
