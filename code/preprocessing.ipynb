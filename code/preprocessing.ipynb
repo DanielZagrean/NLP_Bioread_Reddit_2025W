{
 "cells": [
  {
   "metadata": {},
   "cell_type": "markdown",
   "source": "# Imports and Config",
   "id": "e98f5c2e5f3171e6"
  },
  {
   "metadata": {
    "ExecuteTime": {
     "end_time": "2025-10-22T16:37:51.156962Z",
     "start_time": "2025-10-22T16:37:50.731890Z"
    }
   },
   "cell_type": "code",
   "source": "import pandas as pd",
   "id": "d0e84f1a4cb2cab8",
   "outputs": [],
   "execution_count": 1
  },
  {
   "metadata": {},
   "cell_type": "markdown",
   "source": "# Load Data",
   "id": "f127eee72740727a"
  },
  {
   "metadata": {},
   "cell_type": "code",
   "outputs": [],
   "execution_count": null,
   "source": "raw = pd.read_csv(\"../data/biored_raw.csv\")",
   "id": "7cfc23e282eab2d7"
  },
  {
   "metadata": {},
   "cell_type": "markdown",
   "source": "...",
   "id": "745109726734a874"
  }
 ],
 "metadata": {
  "kernelspec": {
   "name": "python3",
   "language": "python",
   "display_name": "Python 3 (ipykernel)"
  }
 },
 "nbformat": 4,
 "nbformat_minor": 5
}
