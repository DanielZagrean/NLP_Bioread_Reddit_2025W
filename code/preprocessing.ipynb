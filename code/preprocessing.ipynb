{
 "cells": [
  {
   "metadata": {},
   "cell_type": "markdown",
   "source": "# Imports and Config",
   "id": "e98f5c2e5f3171e6"
  },
  {
   "metadata": {
    "ExecuteTime": {
     "end_time": "2025-10-22T15:53:21.621737Z",
     "start_time": "2025-10-22T15:53:21.523384Z"
    }
   },
   "cell_type": "code",
   "source": [
    "import pandas as pd\n",
    "import nltk"
   ],
   "id": "a618f4e52cfc901a",
   "outputs": [],
   "execution_count": 4
  },
  {
   "metadata": {},
   "cell_type": "markdown",
   "source": "# Load Data",
   "id": "4bef6b46bd4d313"
  },
  {
   "metadata": {
    "ExecuteTime": {
     "end_time": "2025-10-22T15:53:23.002695Z",
     "start_time": "2025-10-22T15:53:22.868286Z"
    }
   },
   "cell_type": "code",
   "source": "raw = pd.read_csv(\"../data/biored_raw.csv\")",
   "id": "8789e26f85de1aab",
   "outputs": [],
   "execution_count": 5
  },
  {
   "metadata": {},
   "cell_type": "markdown",
   "source": "...",
   "id": "745109726734a874"
  }
 ],
 "metadata": {},
 "nbformat": 4,
 "nbformat_minor": 5
}
